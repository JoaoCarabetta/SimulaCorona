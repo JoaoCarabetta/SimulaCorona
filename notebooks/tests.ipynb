{
 "cells": [
  {
   "cell_type": "markdown",
   "metadata": {
    "toc": true
   },
   "source": [
    "<h1>Table of Contents<span class=\"tocSkip\"></span></h1>\n",
    "<div class=\"toc\"><ul class=\"toc-item\"><li><span><a href=\"#Collect-cases-script\" data-toc-modified-id=\"Collect-cases-script-1\"><span class=\"toc-item-num\">1&nbsp;&nbsp;</span>Collect cases script</a></span></li><li><span><a href=\"#Check-treatment\" data-toc-modified-id=\"Check-treatment-2\"><span class=\"toc-item-num\">2&nbsp;&nbsp;</span>Check treatment</a></span></li><li><span><a href=\"#Check-data\" data-toc-modified-id=\"Check-data-3\"><span class=\"toc-item-num\">3&nbsp;&nbsp;</span>Check data</a></span></li></ul></div>"
   ]
  },
  {
   "cell_type": "markdown",
   "metadata": {},
   "source": [
    "#### Collect cases script"
   ]
  },
  {
   "cell_type": "code",
   "execution_count": 64,
   "metadata": {},
   "outputs": [],
   "source": [
    "%reload_ext autoreload\n",
    "%autoreload 2"
   ]
  },
  {
   "cell_type": "code",
   "execution_count": 65,
   "metadata": {},
   "outputs": [],
   "source": [
    "import paths\n",
    "\n",
    "from scripts import get_raw\n",
    "df = get_raw.covid_cases()"
   ]
  },
  {
   "cell_type": "markdown",
   "metadata": {},
   "source": [
    "#### Check treatment"
   ]
  },
  {
   "cell_type": "code",
   "execution_count": 70,
   "metadata": {},
   "outputs": [],
   "source": [
    "from scripts import clean_databases\n",
    "dfs = clean_databases.treat_all()"
   ]
  },
  {
   "cell_type": "code",
   "execution_count": 71,
   "metadata": {},
   "outputs": [
    {
     "data": {
      "text/plain": [
       "2"
      ]
     },
     "execution_count": 71,
     "metadata": {},
     "output_type": "execute_result"
    }
   ],
   "source": [
    "len(dfs)"
   ]
  },
  {
   "cell_type": "code",
   "execution_count": 72,
   "metadata": {
    "collapsed": true
   },
   "outputs": [
    {
     "name": "stdout",
     "output_type": "stream",
     "text": [
      "<class 'pandas.core.frame.DataFrame'>\n",
      "RangeIndex: 5570 entries, 0 to 5569\n",
      "Data columns (total 17 columns):\n",
      "id_6char                   5570 non-null int64\n",
      "id_7char                   5570 non-null int64\n",
      "municipio_sus              3773 non-null object\n",
      "municipio                  5570 non-null object\n",
      "uf                         5570 non-null object\n",
      "populacao                  5570 non-null int64\n",
      "clinicos                   4559 non-null float64\n",
      "intensivistas              251 non-null float64\n",
      "enfermeiros                5190 non-null float64\n",
      "anestesiologistas          945 non-null float64\n",
      "ventiladores_existentes    2337 non-null float64\n",
      "ventiladores_em_uso        2269 non-null float64\n",
      "estab_c_vent_sus           2294 non-null float64\n",
      "quantidade_leitos          3542 non-null float64\n",
      "leitos_sus                 3506 non-null float64\n",
      "leitos_nao_sus             1651 non-null float64\n",
      "municipio_uf               5570 non-null object\n",
      "dtypes: float64(10), int64(3), object(4)\n",
      "memory usage: 739.8+ KB\n"
     ]
    }
   ],
   "source": [
    "df_sus = dfs[0]\n",
    "df_sus.info()"
   ]
  },
  {
   "cell_type": "code",
   "execution_count": 73,
   "metadata": {
    "collapsed": true
   },
   "outputs": [
    {
     "name": "stdout",
     "output_type": "stream",
     "text": [
      "<class 'pandas.core.frame.DataFrame'>\n",
      "RangeIndex: 356 entries, 0 to 355\n",
      "Data columns (total 13 columns):\n",
      "municipio       356 non-null object\n",
      "confirmed       356 non-null int64\n",
      "date            356 non-null object\n",
      "deaths          11 non-null float64\n",
      "discarded       320 non-null float64\n",
      "notes           1 non-null object\n",
      "notified        319 non-null float64\n",
      "place_type      356 non-null object\n",
      "source_url      356 non-null object\n",
      "uf              356 non-null object\n",
      "suspect         322 non-null float64\n",
      "last_update     356 non-null object\n",
      "municipio_uf    356 non-null object\n",
      "dtypes: float64(4), int64(1), object(8)\n",
      "memory usage: 36.2+ KB\n"
     ]
    }
   ],
   "source": [
    "df_cases = dfs[1]\n",
    "df_cases.info()"
   ]
  },
  {
   "cell_type": "markdown",
   "metadata": {},
   "source": [
    "#### Check data "
   ]
  },
  {
   "cell_type": "code",
   "execution_count": 74,
   "metadata": {},
   "outputs": [
    {
     "data": {
      "text/html": [
       "<div>\n",
       "<style scoped>\n",
       "    .dataframe tbody tr th:only-of-type {\n",
       "        vertical-align: middle;\n",
       "    }\n",
       "\n",
       "    .dataframe tbody tr th {\n",
       "        vertical-align: top;\n",
       "    }\n",
       "\n",
       "    .dataframe thead th {\n",
       "        text-align: right;\n",
       "    }\n",
       "</style>\n",
       "<table border=\"1\" class=\"dataframe\">\n",
       "  <thead>\n",
       "    <tr style=\"text-align: right;\">\n",
       "      <th></th>\n",
       "      <th>municipio</th>\n",
       "      <th>confirmed</th>\n",
       "      <th>date</th>\n",
       "      <th>deaths</th>\n",
       "      <th>discarded</th>\n",
       "      <th>notes</th>\n",
       "      <th>notified</th>\n",
       "      <th>place_type</th>\n",
       "      <th>source_url</th>\n",
       "      <th>uf</th>\n",
       "      <th>suspect</th>\n",
       "      <th>last_update</th>\n",
       "      <th>municipio_uf</th>\n",
       "    </tr>\n",
       "  </thead>\n",
       "  <tbody>\n",
       "  </tbody>\n",
       "</table>\n",
       "</div>"
      ],
      "text/plain": [
       "Empty DataFrame\n",
       "Columns: [municipio, confirmed, date, deaths, discarded, notes, notified, place_type, source_url, uf, suspect, last_update, municipio_uf]\n",
       "Index: []"
      ]
     },
     "execution_count": 74,
     "metadata": {},
     "output_type": "execute_result"
    }
   ],
   "source": [
    "# Check to join infos\n",
    "df_cases[(df_cases['municipio_uf'].isin(df_sus['municipio_uf']) == False) & (df_cases['municipio'] != '')]"
   ]
  },
  {
   "cell_type": "code",
   "execution_count": 75,
   "metadata": {},
   "outputs": [
    {
     "data": {
      "text/plain": [
       "city     329\n",
       "state     27\n",
       "Name: place_type, dtype: int64"
      ]
     },
     "execution_count": 75,
     "metadata": {},
     "output_type": "execute_result"
    }
   ],
   "source": [
    "df_cases['place_type'].value_counts()"
   ]
  },
  {
   "cell_type": "code",
   "execution_count": 76,
   "metadata": {},
   "outputs": [
    {
     "data": {
      "text/plain": [
       "298"
      ]
     },
     "execution_count": 76,
     "metadata": {},
     "output_type": "execute_result"
    }
   ],
   "source": [
    "df_cases[df_cases['date'] <= '2020-03-20']['confirmed'].sum()"
   ]
  },
  {
   "cell_type": "code",
   "execution_count": 77,
   "metadata": {},
   "outputs": [
    {
     "data": {
      "text/plain": [
       "384"
      ]
     },
     "execution_count": 77,
     "metadata": {},
     "output_type": "execute_result"
    }
   ],
   "source": [
    "df_cases['confirmed'].sum()"
   ]
  }
 ],
 "metadata": {
  "kernelspec": {
   "display_name": "Python 3",
   "language": "python",
   "name": "python3"
  },
  "language_info": {
   "codemirror_mode": {
    "name": "ipython",
    "version": 3
   },
   "file_extension": ".py",
   "mimetype": "text/x-python",
   "name": "python",
   "nbconvert_exporter": "python",
   "pygments_lexer": "ipython3",
   "version": "3.7.4"
  },
  "toc": {
   "base_numbering": 1,
   "nav_menu": {},
   "number_sections": true,
   "sideBar": true,
   "skip_h1_title": true,
   "title_cell": "Table of Contents",
   "title_sidebar": "Contents",
   "toc_cell": true,
   "toc_position": {},
   "toc_section_display": true,
   "toc_window_display": false
  }
 },
 "nbformat": 4,
 "nbformat_minor": 4
}
