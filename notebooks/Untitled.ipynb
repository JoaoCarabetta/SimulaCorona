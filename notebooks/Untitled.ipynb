{
 "cells": [
  {
   "cell_type": "code",
   "execution_count": null,
   "metadata": {},
   "outputs": [],
   "source": [
    "\n",
    "\n",
    "# The SIR model differential equations.\n",
    "def SIR(y, t, N, beta, gamma):\n",
    "    \n",
    "    S, I, R = y\n",
    "    dSdt = -beta * S * I / N\n",
    "    dIdt = beta * S * I / N - gamma * I\n",
    "    dRdt = gamma * I\n",
    "    \n",
    "    return dSdt, dIdt, dRdt\n",
    "\n",
    "\n",
    "\n",
    "def entrypoint(current_state, model_parameters):\n",
    "    \n",
    "    args = {\n",
    "        'y0': (current_state['population'] - current_state['current_infected'] - 0, # S\n",
    "               current_state['current_infected'],                                   # I \n",
    "               current_state['recovered']                                                                   # R         \n",
    "              ),\n",
    "        't': np.linspace(0, model_parameters['days_from_t0'], model_parameters['days_from_t0']+1),\n",
    "        'args': (current_state['population'],                            # N\n",
    "                 model_parameters['R0'] / model_parameters['sick_days'], # beta\n",
    "                 1. / model_parameters['sick_days'],                     # gamma\n",
    "                )\n",
    "    } \n",
    "\n",
    "    result = odeint(SIR, **args)\n",
    "    \n",
    "    result = pd.DataFrame(result, columns=['S', 'I', 'R'])\n",
    "    \n",
    "    result['days'] = args['t']\n",
    "    result['I2'] = result['I'] * model_parameters['i2_percentage'] / 100 # severe cases\n",
    "    result['I3'] = result['I'] * model_parameters['i3_percentage'] / 100 # critical cases\n",
    "    result['I1'] = result['I'] - result['I2'] - result['I3']             # mild cases\n",
    "    \n",
    "    return result"
   ]
  },
  {
   "cell_type": "code",
   "execution_count": 4,
   "metadata": {},
   "outputs": [],
   "source": [
    "import sys\n",
    "sys.path.append('/Users/joaoc/Documents/projects/SimulaCorona/.env/lib/python3.7/site-packages')\n",
    "\n",
    "from scipy.integrate import odeint\n",
    "import pandas as pd\n",
    "import numpy as np"
   ]
  },
  {
   "cell_type": "code",
   "execution_count": 31,
   "metadata": {},
   "outputs": [],
   "source": [
    "def alhill(y, t, beta_1, beta_2, beta_3, a, gamma_1, gamma_2, gamma_3, p_1, p_2, mu):\n",
    "    \n",
    "    S, E, I_1, I_2, I_3, R, D = y\n",
    "    \n",
    "    dS   = -(beta_1 * I_1 - beta_2 * I_2 - beta_3 * I_3) * S\n",
    "    dE   = (beta_1 * I_1 - beta_2 * I_2 - beta_3 * I_3) * S - a * E\n",
    "    dI_1 = a * E - (gamma_1 + p_1) * I_1\n",
    "    dI_2 = p_1 * I_1 - (gamma_2 + p_2) * I_2\n",
    "    dI_3 = p_2 * I_2 - (gamma_3 + p_2) * I_3\n",
    "    dR   = gamma_1 * I_1 + gamma_2 * I_2 + gamma_3 * I_3  \n",
    "    dD   = mu * I_3\n",
    "    \n",
    "    return dS, dE, dI_1, dI_2, dI_3, dR, dD"
   ]
  },
  {
   "cell_type": "code",
   "execution_count": 32,
   "metadata": {},
   "outputs": [],
   "source": [
    "args = {\n",
    "    'y0': (\n",
    "            1000,# S, \n",
    "            0,# E, \n",
    "            0,# I_1,\n",
    "            0,# I_2,\n",
    "            0,# I_3,\n",
    "            0,# R,\n",
    "            0# D                                                               # R         \n",
    "          ),\n",
    "    't': np.linspace(0, 60, 60+1),\n",
    "    'args': tuple(dict(\n",
    "            beta_1  = 0.500,\n",
    "            beta_2  = 0.100,\n",
    "            beta_3  = 0.100,\n",
    "            a       = 0.200,\n",
    "            gamma_1 = 0.133,\n",
    "            gamma_2 = 0.125,\n",
    "            gamma_3 = 0.075,\n",
    "            p_1     = 0.033,\n",
    "            p_2     = 0.042,\n",
    "            u       = 0.050).values())\n",
    "} "
   ]
  },
  {
   "cell_type": "code",
   "execution_count": 33,
   "metadata": {},
   "outputs": [],
   "source": [
    "result = odeint(alhill, **args)"
   ]
  },
  {
   "cell_type": "code",
   "execution_count": 34,
   "metadata": {},
   "outputs": [
    {
     "data": {
      "text/plain": [
       "array([[1000.,    0.,    0.,    0.,    0.,    0.,    0.],\n",
       "       [1000.,    0.,    0.,    0.,    0.,    0.,    0.],\n",
       "       [1000.,    0.,    0.,    0.,    0.,    0.,    0.],\n",
       "       [1000.,    0.,    0.,    0.,    0.,    0.,    0.],\n",
       "       [1000.,    0.,    0.,    0.,    0.,    0.,    0.],\n",
       "       [1000.,    0.,    0.,    0.,    0.,    0.,    0.],\n",
       "       [1000.,    0.,    0.,    0.,    0.,    0.,    0.],\n",
       "       [1000.,    0.,    0.,    0.,    0.,    0.,    0.],\n",
       "       [1000.,    0.,    0.,    0.,    0.,    0.,    0.],\n",
       "       [1000.,    0.,    0.,    0.,    0.,    0.,    0.],\n",
       "       [1000.,    0.,    0.,    0.,    0.,    0.,    0.],\n",
       "       [1000.,    0.,    0.,    0.,    0.,    0.,    0.],\n",
       "       [1000.,    0.,    0.,    0.,    0.,    0.,    0.],\n",
       "       [1000.,    0.,    0.,    0.,    0.,    0.,    0.],\n",
       "       [1000.,    0.,    0.,    0.,    0.,    0.,    0.],\n",
       "       [1000.,    0.,    0.,    0.,    0.,    0.,    0.],\n",
       "       [1000.,    0.,    0.,    0.,    0.,    0.,    0.],\n",
       "       [1000.,    0.,    0.,    0.,    0.,    0.,    0.],\n",
       "       [1000.,    0.,    0.,    0.,    0.,    0.,    0.],\n",
       "       [1000.,    0.,    0.,    0.,    0.,    0.,    0.],\n",
       "       [1000.,    0.,    0.,    0.,    0.,    0.,    0.],\n",
       "       [1000.,    0.,    0.,    0.,    0.,    0.,    0.],\n",
       "       [1000.,    0.,    0.,    0.,    0.,    0.,    0.],\n",
       "       [1000.,    0.,    0.,    0.,    0.,    0.,    0.],\n",
       "       [1000.,    0.,    0.,    0.,    0.,    0.,    0.],\n",
       "       [1000.,    0.,    0.,    0.,    0.,    0.,    0.],\n",
       "       [1000.,    0.,    0.,    0.,    0.,    0.,    0.],\n",
       "       [1000.,    0.,    0.,    0.,    0.,    0.,    0.],\n",
       "       [1000.,    0.,    0.,    0.,    0.,    0.,    0.],\n",
       "       [1000.,    0.,    0.,    0.,    0.,    0.,    0.],\n",
       "       [1000.,    0.,    0.,    0.,    0.,    0.,    0.],\n",
       "       [1000.,    0.,    0.,    0.,    0.,    0.,    0.],\n",
       "       [1000.,    0.,    0.,    0.,    0.,    0.,    0.],\n",
       "       [1000.,    0.,    0.,    0.,    0.,    0.,    0.],\n",
       "       [1000.,    0.,    0.,    0.,    0.,    0.,    0.],\n",
       "       [1000.,    0.,    0.,    0.,    0.,    0.,    0.],\n",
       "       [1000.,    0.,    0.,    0.,    0.,    0.,    0.],\n",
       "       [1000.,    0.,    0.,    0.,    0.,    0.,    0.],\n",
       "       [1000.,    0.,    0.,    0.,    0.,    0.,    0.],\n",
       "       [1000.,    0.,    0.,    0.,    0.,    0.,    0.],\n",
       "       [1000.,    0.,    0.,    0.,    0.,    0.,    0.],\n",
       "       [1000.,    0.,    0.,    0.,    0.,    0.,    0.],\n",
       "       [1000.,    0.,    0.,    0.,    0.,    0.,    0.],\n",
       "       [1000.,    0.,    0.,    0.,    0.,    0.,    0.],\n",
       "       [1000.,    0.,    0.,    0.,    0.,    0.,    0.],\n",
       "       [1000.,    0.,    0.,    0.,    0.,    0.,    0.],\n",
       "       [1000.,    0.,    0.,    0.,    0.,    0.,    0.],\n",
       "       [1000.,    0.,    0.,    0.,    0.,    0.,    0.],\n",
       "       [1000.,    0.,    0.,    0.,    0.,    0.,    0.],\n",
       "       [1000.,    0.,    0.,    0.,    0.,    0.,    0.],\n",
       "       [1000.,    0.,    0.,    0.,    0.,    0.,    0.],\n",
       "       [1000.,    0.,    0.,    0.,    0.,    0.,    0.],\n",
       "       [1000.,    0.,    0.,    0.,    0.,    0.,    0.],\n",
       "       [1000.,    0.,    0.,    0.,    0.,    0.,    0.],\n",
       "       [1000.,    0.,    0.,    0.,    0.,    0.,    0.],\n",
       "       [1000.,    0.,    0.,    0.,    0.,    0.,    0.],\n",
       "       [1000.,    0.,    0.,    0.,    0.,    0.,    0.],\n",
       "       [1000.,    0.,    0.,    0.,    0.,    0.,    0.],\n",
       "       [1000.,    0.,    0.,    0.,    0.,    0.,    0.],\n",
       "       [1000.,    0.,    0.,    0.,    0.,    0.,    0.],\n",
       "       [1000.,    0.,    0.,    0.,    0.,    0.,    0.]])"
      ]
     },
     "execution_count": 34,
     "metadata": {},
     "output_type": "execute_result"
    }
   ],
   "source": [
    "result"
   ]
  },
  {
   "cell_type": "code",
   "execution_count": null,
   "metadata": {},
   "outputs": [],
   "source": []
  }
 ],
 "metadata": {
  "kernelspec": {
   "display_name": ".env",
   "language": "python",
   "name": ".env"
  },
  "language_info": {
   "codemirror_mode": {
    "name": "ipython",
    "version": 3
   },
   "file_extension": ".py",
   "mimetype": "text/x-python",
   "name": "python",
   "nbconvert_exporter": "python",
   "pygments_lexer": "ipython3",
   "version": "3.7.5"
  }
 },
 "nbformat": 4,
 "nbformat_minor": 2
}
