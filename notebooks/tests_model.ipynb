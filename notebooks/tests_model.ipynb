{
 "cells": [
  {
   "cell_type": "code",
   "execution_count": 73,
   "metadata": {},
   "outputs": [],
   "source": [
    "import numpy as np\n",
    "from scipy.integrate import odeint\n",
    "import matplotlib.pyplot as plt\n",
    "import matplotlib.dates as md\n",
    "\n",
    "\n",
    "\n",
    "def sir_results(df_city,case,porcentagem_leitos_ocupados,dias_doente,Percentual_infectados_que_precisam_de_internacao):\n",
    "    # Total population, N.\n",
    "    N = df_city['populacao'].values[0]\n",
    "    \n",
    "    # Initial number of infected and recovered individuals, I0 and R0.\n",
    "    number_of_infected = df_city['confirmed'].values[0]\n",
    "    percentage_of_immunity = parameters_statics[case]['R0']\n",
    "    I0, R0 = number_of_infected, number_of_infected * percentage_of_immunity\n",
    "\n",
    "    # Contact rate, beta, and mean recovery rate, gamma, (in 1/days).\n",
    "    Numero_de_infectados_por_pessoa_R0 = parameters_statics[case]['R_0']\n",
    "    R_0 = Numero_de_infectados_por_pessoa_R0\n",
    "\n",
    "    # Leitos disponíveis\n",
    "    Total_leitos = df_city['quantidade_leitos'].values[0]\n",
    "    Leitos_ocupados_outras_doencas = df_city['quantidade_leitos'].values[0] * porcentagem_leitos_ocupados / 100\n",
    "    leitos = Total_leitos - Leitos_ocupados_outras_doencas\n",
    "\n",
    "\n",
    "    # Everyone else, S0, is susceptible to infection initially.\n",
    "    S0 = N - I0 - R0\n",
    "\n",
    "    gamma = 1. / dias_doente\n",
    "    beta = R_0 * gamma\n",
    "\n",
    "\n",
    "\n",
    "    # A grid of time points (in days)\n",
    "    days = 360\n",
    "    t = np.linspace(0, days, days)\n",
    "\n",
    "    # The SIR model differential equations.\n",
    "    def deriv(y, t, N, beta, gamma):\n",
    "        S, I, R = y\n",
    "        dSdt = -beta * S * I / N\n",
    "        dIdt = beta * S * I / N - gamma * I\n",
    "        dRdt = gamma * I\n",
    "        return dSdt, dIdt, dRdt\n",
    "    \n",
    "    # Initial conditions vector\n",
    "    y0 = S0, I0, R0\n",
    "    # Integrate the SIR equations over the time grid, t.\n",
    "    ret = odeint(deriv, y0, t, args=(N, beta, gamma))\n",
    "    S, I, R = ret.T\n",
    "\n",
    "    uti_demand = I * Percentual_infectados_que_precisam_de_internacao / 100\n",
    "\n",
    "\n",
    "    if max(uti_demand) > leitos == True:\n",
    "        dday = uti_demand[uti_demand > leitos][0]\n",
    "        dday = np.where(uti_demand == dday)[0][0]\n",
    "        plot_dday = 1\n",
    "    else:\n",
    "        plot_dday = 0\n",
    "        dday = -1\n",
    "\n",
    "\n",
    "    \n",
    "    dd = pd.DataFrame([municipio]*360,columns=['municipio'])\n",
    "    dd['uf']=df_city['uf'].values[0]\n",
    "    dd['place_type'] = df_city['place_type'].values[0]\n",
    "    dd['populacao'] = N\n",
    "    dd['porcentagem_leitos_ocupados'] = porcentagem_leitos_ocupados\n",
    "    dd['dias_doente'] = dias_doente\n",
    "    dd['percentual_infectados_que_precisam_de_internacao'] = Percentual_infectados_que_precisam_de_internacao\n",
    "    dd['data_numero_infectados'] = df_city['date'].values[0]\n",
    "    dd['numero_infectados'] = number_of_infected\n",
    "    dd['leitos_total'] = Total_leitos\n",
    "    dd['leitos_ocupados_outras_doencas'] = Leitos_ocupados_outras_doencas\n",
    "    dd['leitos_disponiveis'] = leitos\n",
    "    dd['caso'] = case\n",
    "    dd['dias'] = t\n",
    "    dd['demanda_por_uti'] = uti_demand\n",
    "    dd['dias_para_colapso'] = dday\n",
    "    dd['suscetiveis'] = S\n",
    "    dd['infectados'] = I\n",
    "    dd['recuperados'] = R\n",
    "    \n",
    "    \n",
    "    return(dd)"
   ]
  },
  {
   "cell_type": "markdown",
   "metadata": {
    "toc": true
   },
   "source": [
    "<h1>Table of Contents<span class=\"tocSkip\"></span></h1>\n",
    "<div class=\"toc\"><ul class=\"toc-item\"><li><span><a href=\"#Collect-cases-script\" data-toc-modified-id=\"Collect-cases-script-1\"><span class=\"toc-item-num\">1&nbsp;&nbsp;</span>Collect cases script</a></span></li><li><span><a href=\"#Check-treatment\" data-toc-modified-id=\"Check-treatment-2\"><span class=\"toc-item-num\">2&nbsp;&nbsp;</span>Check treatment</a></span></li><li><span><a href=\"#Check-data\" data-toc-modified-id=\"Check-data-3\"><span class=\"toc-item-num\">3&nbsp;&nbsp;</span>Check data</a></span></li><li><span><a href=\"#Test-plotting\" data-toc-modified-id=\"Test-plotting-4\"><span class=\"toc-item-num\">4&nbsp;&nbsp;</span>Test plotting</a></span></li></ul></div>"
   ]
  },
  {
   "cell_type": "markdown",
   "metadata": {},
   "source": [
    "#### Collect cases script"
   ]
  },
  {
   "cell_type": "code",
   "execution_count": 1,
   "metadata": {},
   "outputs": [],
   "source": [
    "%reload_ext autoreload\n",
    "%autoreload 2"
   ]
  },
  {
   "cell_type": "code",
   "execution_count": 10,
   "metadata": {},
   "outputs": [],
   "source": [
    "import paths\n",
    "from scripts import get_raw\n",
    "df = get_raw.covid_cases()"
   ]
  },
  {
   "cell_type": "markdown",
   "metadata": {},
   "source": [
    "#### Check treatment"
   ]
  },
  {
   "cell_type": "code",
   "execution_count": 3,
   "metadata": {},
   "outputs": [],
   "source": [
    "# from scripts import clean_databases\n",
    "# dfs = clean_databases.treat_all()\n",
    "# len(dfs)"
   ]
  },
  {
   "cell_type": "code",
   "execution_count": 80,
   "metadata": {},
   "outputs": [
    {
     "data": {
      "text/plain": [
       "[PosixPath('/mnt/0BF8481B1CDBF12D/Jlab/gabinete_sv/SimulaCorona-Fork/data/treated/treated_covid19_SUS_database.csv'),\n",
       " PosixPath('/mnt/0BF8481B1CDBF12D/Jlab/gabinete_sv/SimulaCorona-Fork/data/treated/treated_covid19_cases.csv')]"
      ]
     },
     "execution_count": 80,
     "metadata": {},
     "output_type": "execute_result"
    }
   ],
   "source": [
    "import pandas as pd\n",
    "from paths import *\n",
    "import numpy as np\n",
    "import plotly.express as px\n",
    "\n",
    "\n",
    "sorted(TREAT_PATH.glob('*.csv'))"
   ]
  },
  {
   "cell_type": "markdown",
   "metadata": {},
   "source": [
    "### import data"
   ]
  },
  {
   "cell_type": "code",
   "execution_count": 62,
   "metadata": {},
   "outputs": [],
   "source": [
    "#import sus data\n",
    "df_sus = pd.read_csv(TREAT_PATH / 'treated_covid19_SUS_database.csv')\n",
    "cols = ['municipio','uf','populacao' ,'quantidade_leitos']\n",
    "df_sus = df_sus[cols].fillna(0)\n",
    "\n",
    "#get the information for states\n",
    "df_states = df_sus.groupby(by='uf', as_index=False).sum()\n",
    "df_states['municipio'] = df_states['uf']\n",
    "\n",
    "#put states in same order as df_sus\n",
    "cols = df_sus.columns\n",
    "df_states = df_states[cols]\n",
    "\n",
    "#concat states information with sus information\n",
    "df_sus = pd.concat([df_states,df_sus],axis=0)\n"
   ]
  },
  {
   "cell_type": "code",
   "execution_count": 67,
   "metadata": {},
   "outputs": [],
   "source": [
    "#import cases data\n",
    "df_cases = pd.read_csv(TREAT_PATH / 'treated_covid19_cases.csv').sort_values(by='date', ascending=False)\n",
    "df_cases['municipio'] = df_cases['municipio']\n",
    "\n",
    "mask = df_cases['place_type']=='state'\n",
    "df_cases['municipio'] = np.where(mask, df_cases['uf'],df_cases['municipio'])\n",
    "\n",
    "# #get only last day data for each city\n",
    "df_cases = df_cases.drop_duplicates(subset=['municipio'], keep='first')\n",
    "df_cases = df_cases.sort_values(by='confirmed', ascending=False)\n",
    "\n",
    "cols = ['municipio','place_type','date','confirmed','deaths','discarded','suspect']\n",
    "df_cases = df_cases[cols]\n",
    "\n",
    "# #merge sus and cases data\n",
    "df = pd.merge(df_cases, df_sus, how='left', on='municipio' )"
   ]
  },
  {
   "cell_type": "markdown",
   "metadata": {},
   "source": [
    "### define parametes"
   ]
  },
  {
   "cell_type": "code",
   "execution_count": 70,
   "metadata": {},
   "outputs": [],
   "source": [
    "parameters_statics = {\n",
    "                      'nothing'   :{'R0':8.9,'R_0':3.88},\n",
    "                      'isolamento':{'R0':4.9,'R_0':1.26},\n",
    "                      'lockdown'  :{'R0':3.1,'R_0':0.32}\n",
    "                     }\n",
    "\n",
    "porcentagem_leitos_ocupados = 80\n",
    "dias_doente = 15\n",
    "Percentual_infectados_que_precisam_de_internacao = 8"
   ]
  },
  {
   "cell_type": "markdown",
   "metadata": {},
   "source": [
    "### run model function"
   ]
  },
  {
   "cell_type": "code",
   "execution_count": 74,
   "metadata": {},
   "outputs": [],
   "source": [
    "df_final=pd.DataFrame()\n",
    "\n",
    "\n",
    "for municipio in df['municipio'].unique():\n",
    "    for case in parameters_statics.keys():\n",
    "        mask = df['municipio'] == municipio\n",
    "        df_city = df[mask]\n",
    "        dd = sir_results(df_city, case,porcentagem_leitos_ocupados,dias_doente,Percentual_infectados_que_precisam_de_internacao)\n",
    "        df_final = pd.concat([df_final,dd],axis=0)\n",
    "        \n",
    "# df_final.to_csv('../data/output/model_for_city.csv', index=False)"
   ]
  },
  {
   "cell_type": "code",
   "execution_count": null,
   "metadata": {},
   "outputs": [],
   "source": []
  },
  {
   "cell_type": "markdown",
   "metadata": {},
   "source": [
    "### plot"
   ]
  },
  {
   "cell_type": "code",
   "execution_count": 76,
   "metadata": {},
   "outputs": [],
   "source": [
    "mask = df_final['municipio']=='PR'\n",
    "dd = df_final[mask]"
   ]
  },
  {
   "cell_type": "code",
   "execution_count": 78,
   "metadata": {},
   "outputs": [],
   "source": [
    "fig = px.line(dd, x='dias',y='demanda_por_uti', color='caso')"
   ]
  },
  {
   "cell_type": "code",
   "execution_count": 8,
   "metadata": {},
   "outputs": [],
   "source": []
  },
  {
   "cell_type": "code",
   "execution_count": null,
   "metadata": {},
   "outputs": [],
   "source": []
  },
  {
   "cell_type": "code",
   "execution_count": null,
   "metadata": {},
   "outputs": [],
   "source": []
  },
  {
   "cell_type": "markdown",
   "metadata": {},
   "source": [
    "## MODELO\n",
    "\n",
    "- SIR - https://scipython.com/book/chapter-8-scipy/additional-examples/the-sir-epidemic-model/\n",
    "- https://colab.research.google.com/drive/1bmR-W2NvQ7gPnldTfei927NtGJUCC1BB#scrollTo=47Er1T5YZBXf\n",
    "\n",
    "    ro - fixo para cada cidade\n",
    "    populacao de cada cidade\n"
   ]
  },
  {
   "cell_type": "code",
   "execution_count": 82,
   "metadata": {},
   "outputs": [],
   "source": [
    "import numpy as np\n",
    "from scipy.integrate import odeint\n",
    "import matplotlib.pyplot as plt\n",
    "import matplotlib.dates as md\n",
    "\n",
    "#@title Variables { run: \"auto\" }\n",
    "population_in_million = 220 #@param {type:\"number\"}\n",
    "percentage_of_immunity =  1#@param {type:\"integer\"}\n",
    "number_of_infected =  125#@param {type:\"integer\"}\n",
    "number_of_infected_per_person_R0 =  2.5#@param {type:\"number\"}\n",
    "days_to_get_better = 15 #@param {type:\"number\"}\n",
    "hospital_capacity_in_thousands = 300#@param {type:\"number\"}\n",
    "percentage_of_infected_that_needs_hospital = 5#@param {type:\"number\"}\n"
   ]
  },
  {
   "cell_type": "code",
   "execution_count": 83,
   "metadata": {},
   "outputs": [],
   "source": [
    "# Variables\n",
    "\n",
    "# Total population, N.\n",
    "N = population_in_million * 1e6\n",
    "\n",
    "# Initial number of infected and recovered individuals, I0 and R0.\n",
    "I0, R0 = number_of_infected, number_of_infected * percentage_of_immunity\n",
    "\n",
    "# Contact rate, beta, and mean recovery rate, gamma, (in 1/days).\n",
    "R_0 = number_of_infected_per_person_R0\n",
    "\n",
    "# Everyone else, S0, is susceptible to infection initially.\n",
    "S0 = N - I0 - R0\n",
    "\n",
    "gamma = 1. / days_to_get_better\n",
    "beta = R_0 * gamma\n",
    "\n",
    "hospital_capacity = hospital_capacity_in_thousands * 1e3\n",
    "\n",
    "# A grid of time points (in days)\n",
    "days = 360\n",
    "t = np.linspace(0, days, days)\n",
    "\n",
    "# The SIR model differential equations.\n",
    "def deriv(y, t, N, beta, gamma):\n",
    "    S, I, R = y\n",
    "    dSdt = -beta * S * I / N\n",
    "    dIdt = beta * S * I / N - gamma * I\n",
    "    dRdt = gamma * I\n",
    "    return dSdt, dIdt, dRdt\n",
    "\n",
    "# Initial conditions vector\n",
    "y0 = S0, I0, R0\n",
    "# Integrate the SIR equations over the time grid, t.\n",
    "ret = odeint(deriv, y0, t, args=(N, beta, gamma))\n",
    "S, I, R = ret.T\n",
    "\n",
    "uti_demand = I * percentage_of_infected_that_needs_hospital / 100  / 1e3\n",
    "\n",
    "dday = uti_demand[uti_demand > hospital_capacity_in_thousands][0]\n",
    "dday = np.where(uti_demand == dday)[0][0]\n",
    "\n"
   ]
  },
  {
   "cell_type": "code",
   "execution_count": 84,
   "metadata": {},
   "outputs": [
    {
     "data": {
      "image/png": "[encoded data removed]",
      "text/plain": [
       "<Figure size 1080x720 with 1 Axes>"
      ]
     },
     "metadata": {},
     "output_type": "display_data"
    }
   ],
   "source": [
    "# Plot the data on three separate curves for S(t), I(t) and R(t)\n",
    "lw = 4\n",
    "fig = plt.figure(facecolor='w', figsize=(15, 10))\n",
    "ax = fig.add_subplot(111, axisbelow=True)\n",
    "\n",
    "ax.plot(t, uti_demand,\n",
    "            'r', alpha=0.5, lw=lw)\n",
    "\n",
    "ax.hlines(hospital_capacity_in_thousands, 0, days)\n",
    "ax.text(300, hospital_capacity_in_thousands + 50, \n",
    "        f'Hospital Capacity', rotation=0, fontdict={\"size\":15})\n",
    "ax.axvline(dday)\n",
    "ax.text(dday-7, 1e3 , f'{dday} days', rotation=90, fontdict={\"size\":15})\n",
    "\n",
    "\n",
    "ax.tick_params(axis='both', which='both', labelsize=14,\n",
    "               bottom=False, top=False, labelbottom=True,\n",
    "               left=False, right=False, labelleft=True)\n",
    "\n",
    "ax.set_xlabel('Days', fontdict={\"size\":15})\n",
    "ax.set_ylabel('Hospital Demand (thousands)', fontdict={\"size\":15})\n",
    "\n",
    "ax.grid(True, 'major', 'y', ls='--', lw=.5, c='k', alpha=.3)\n",
    "\n",
    "fig.suptitle('SRI Hospital Demand Model', fontsize=18, ha='center')\n",
    "\n",
    "for spine in ('top', 'right', 'bottom', 'left'):\n",
    "    ax.spines[spine].set_visible(False)\n",
    "plt.show()"
   ]
  },
  {
   "cell_type": "code",
   "execution_count": null,
   "metadata": {},
   "outputs": [],
   "source": []
  }
 ],
 "metadata": {
  "kernelspec": {
   "display_name": "Python 3",
   "language": "python",
   "name": "python3"
  },
  "language_info": {
   "codemirror_mode": {
    "name": "ipython",
    "version": 3
   },
   "file_extension": ".py",
   "mimetype": "text/x-python",
   "name": "python",
   "nbconvert_exporter": "python",
   "pygments_lexer": "ipython3",
   "version": "3.7.4"
  },
  "toc": {
   "base_numbering": 1,
   "nav_menu": {},
   "number_sections": true,
   "sideBar": true,
   "skip_h1_title": true,
   "title_cell": "Table of Contents",
   "title_sidebar": "Contents",
   "toc_cell": true,
   "toc_position": {},
   "toc_section_display": true,
   "toc_window_display": false
  }
 },
 "nbformat": 4,
 "nbformat_minor": 4
}
