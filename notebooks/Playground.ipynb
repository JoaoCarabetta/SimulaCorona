{
 "cells": [
  {
   "cell_type": "code",
   "execution_count": 1,
   "metadata": {},
   "outputs": [],
   "source": [
    "import sys\n",
    "sys.path.append('/home/joaoc/SimulaCorona/.env/lib/python3.6/site-packages/')\n",
    "\n",
    "import pandas as pd\n",
    "import numpy as np\n",
    "import yaml\n",
    "import matplotlib.pyplot as plt\n",
    "import matplotlib.dates as md\n",
    "from tqdm import tqdm\n",
    "\n",
    "from paths import *\n",
    "from scripts import get_data, clean_data\n",
    "\n",
    "%reload_ext autoreload\n",
    "%autoreload 2\n",
    "\n",
    "from scipy.integrate import odeint\n",
    "import pandas as pd\n",
    "import numpy as np"
   ]
  },
  {
   "cell_type": "code",
   "execution_count": 4,
   "metadata": {},
   "outputs": [],
   "source": [
    "# Imports the Google Cloud client library\n",
    "from google.cloud import storage, bigquery\n",
    "import tempfile\n",
    "\n",
    "# Instantiates a client\n",
    "storage_client = storage.Client.from_service_account_json('../configs/gcloud.json')\n"
   ]
  },
  {
   "cell_type": "code",
   "execution_count": 7,
   "metadata": {},
   "outputs": [],
   "source": [
    "config = yaml.load(open('../configs/config.yaml', 'r'))"
   ]
  },
  {
   "cell_type": "code",
   "execution_count": 97,
   "metadata": {},
   "outputs": [],
   "source": [
    "def get_bucket(config):\n",
    "    \n",
    "    storage_client = storage.Client.from_service_account_json('../configs/gcloud.json')\n",
    "    return storage_client.get_bucket(config['gcloud']['storage']['bucket'])    \n",
    "\n",
    "def upload_data(df, table_name, filena, config):\n",
    "    \"\"\"Saves dataframe as parquet to GCloud storage\"\"\"\n",
    "\n",
    "    bucket = get_bucket(config)\n",
    "    \n",
    "    destination_path = f\"{config['gcloud']['bigquery']['schema']['prod']}/{table_name}/{filename}\"\n",
    "    \n",
    "    blob = bucket.blob(destination_path)\n",
    "        \n",
    "    with tempfile.TemporaryDirectory() as tmpdirname:\n",
    "        \n",
    "        df.to_parquet(tmpdirname + '/temp', index=False)\n",
    "        source_path = str(tmpdirname + '/temp')\n",
    "        \n",
    "        blob.upload_from_filename(source_path)\n",
    "        \n",
    "def get_bigquery(path='../configs/gcloud.json'):\n",
    "    return bigquery.Client.from_service_account_json(path)\n",
    "\n",
    "def create_table(table_name, config, partition=False):\n",
    "    \n",
    "    bigquery_client = get_bigquery()\n",
    "    \n",
    "    dataset = bigquery_client.dataset(config['gcloud']['bigquery']['schema']['prod'])\n",
    "    \n",
    "    uri = f\"gs://{config['gcloud']['storage']['bucket']}/{config['gcloud']['bigquery']['schema']['prod']}/{table_name}/*\"\n",
    "    \n",
    "    job_config = bigquery.LoadJobConfig()\n",
    "    job_config.autodetect = True\n",
    "    job_config.source_format = bigquery.SourceFormat.PARQUET\n",
    "\n",
    "    if partition:\n",
    "        drop_table(table_name, config) # drop table to refresh partitions\n",
    "        hive = bigquery.external_config.HivePartitioningOptions()\n",
    "        hive.mode = 'AUTO'\n",
    "        hive.source_uri_prefix = f\"gs://{config['gcloud']['storage']['bucket']}/{config['gcloud']['bigquery']['schema']['prod']}/{table_name}/\"\n",
    "        job_config.hive_partitioning = hive   \n",
    "    \n",
    "    load_job = bigquery_client.load_table_from_uri(uri,\n",
    "                                               dataset.table(table_name),\n",
    "                                               job_config=job_config)\n",
    "    load_job.result()\n",
    "    \n",
    "def drop_table(table_name, config):\n",
    "    \n",
    "    dataset = bigquery_client.dataset(config['gcloud']['bigquery']['schema']['prod'])\n",
    "    \n",
    "    bigquery_client.delete_table(dataset.table(table_name), not_found_ok=True)"
   ]
  },
  {
   "cell_type": "code",
   "execution_count": 73,
   "metadata": {},
   "outputs": [],
   "source": [
    "table_name = 'brasilio'\n"
   ]
  },
  {
   "cell_type": "code",
   "execution_count": 87,
   "metadata": {},
   "outputs": [],
   "source": [
    "for i in range(6000):\n",
    "    filename = f'day={i}/raw'\n",
    "    df = pd.DataFrame([i], columns=['a'])\n",
    "    upload_blob(df, table_name, filename, config)"
   ]
  },
  {
   "cell_type": "code",
   "execution_count": 99,
   "metadata": {},
   "outputs": [],
   "source": [
    "create_table(table_name, config, partition=True)"
   ]
  },
  {
   "cell_type": "code",
   "execution_count": 91,
   "metadata": {},
   "outputs": [],
   "source": []
  },
  {
   "cell_type": "code",
   "execution_count": 85,
   "metadata": {},
   "outputs": [],
   "source": []
  },
  {
   "cell_type": "code",
   "execution_count": 83,
   "metadata": {},
   "outputs": [],
   "source": []
  },
  {
   "cell_type": "code",
   "execution_count": null,
   "metadata": {},
   "outputs": [],
   "source": []
  },
  {
   "cell_type": "code",
   "execution_count": null,
   "metadata": {},
   "outputs": [],
   "source": []
  }
 ],
 "metadata": {
  "kernelspec": {
   "display_name": "Python 3",
   "language": "python",
   "name": "python3"
  },
  "language_info": {
   "codemirror_mode": {
    "name": "ipython",
    "version": 3
   },
   "file_extension": ".py",
   "mimetype": "text/x-python",
   "name": "python",
   "nbconvert_exporter": "python",
   "pygments_lexer": "ipython3",
   "version": "3.6.9"
  }
 },
 "nbformat": 4,
 "nbformat_minor": 2
}
